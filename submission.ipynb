{
 "cells": [
  {
   "cell_type": "code",
   "execution_count": 30,
   "metadata": {
    "collapsed": true
   },
   "outputs": [
    {
     "name": "stdout",
     "output_type": "stream",
     "text": [
      "<class 'str'>\n",
      "   RMS CDW ID  General Offense Number Offense Code  Offense Code Extension  \\\n",
      "0      483839              2015218538         2202                       0   \n",
      "1      481252              2015213067         2610                       0   \n",
      "2      481375              2015210301         2316                       0   \n",
      "3      481690              2015209327         2599                       0   \n",
      "4      478198              2015207880         2399                       3   \n",
      "\n",
      "           Offense Type Summary Offense Code Summarized Offense Description  \\\n",
      "0    BURGLARY-FORCE-RES                 2200                       BURGLARY   \n",
      "1  FRAUD-IDENTITY THEFT                 2600                          FRAUD   \n",
      "2            THEFT-MAIL                 2300                     MAIL THEFT   \n",
      "3           COUNTERFEIT                 2500                    COUNTERFEIT   \n",
      "4             THEFT-OTH                 2300                 OTHER PROPERTY   \n",
      "\n",
      "            Date Reported Occurred Date or Date Range Start  \\\n",
      "0  06/28/2015 10:31:00 AM            06/28/2014 10:31:00 AM   \n",
      "1  06/24/2015 11:09:00 AM            06/01/2014 12:00:00 AM   \n",
      "2  06/22/2015 09:22:00 AM            08/31/2014 09:00:00 AM   \n",
      "3  06/21/2015 03:52:00 PM            06/20/2014 01:38:00 PM   \n",
      "4  06/20/2015 11:59:00 AM            06/01/2014 11:59:00 AM   \n",
      "\n",
      "  Occurred Date Range End        Hundred Block Location District/Sector  \\\n",
      "0  06/28/2015 10:31:00 AM         6XX BLOCK OF NW 74 ST               J   \n",
      "1  06/24/2015 11:09:00 AM         23XX BLOCK OF 43 AV E               C   \n",
      "2                     NaN        81XX BLOCK OF 11 AV SW               F   \n",
      "3                     NaN          6XX BLOCK OF PINE ST               M   \n",
      "4  11/01/2014 12:00:00 PM  77XX BLOCK OF SUNNYSIDE AV N               J   \n",
      "\n",
      "  Zone/Beat  Census Tract 2000   Longitude   Latitude  \\\n",
      "0        J2          2900.3013 -122.364672  47.682524   \n",
      "1        C2          6300.1004 -122.277080  47.639901   \n",
      "2        F3         11300.5013 -122.349312  47.529232   \n",
      "3        M2          8200.1002 -122.334818  47.612368   \n",
      "4        J3          2700.2015 -122.329379  47.685960   \n",
      "\n",
      "                         Location  Month  Year  \n",
      "0   (47.68252427, -122.364671996)      6  2014  \n",
      "1  (47.639900761, -122.277080248)      6  2014  \n",
      "2  (47.529232299, -122.349312181)      8  2014  \n",
      "3  (47.612368448, -122.334817763)      6  2014  \n",
      "4  (47.685959879, -122.329378505)      6  2014  \n",
      "**************************************************\n",
      "   IncidntNum       Category                      Descript DayOfWeek  \\\n",
      "0   140734311          ARSON            ARSON OF A VEHICLE    Sunday   \n",
      "1   140736317   NON-CRIMINAL                 LOST PROPERTY    Sunday   \n",
      "2   146177923  LARCENY/THEFT  GRAND THEFT FROM LOCKED AUTO    Sunday   \n",
      "3   146177531  LARCENY/THEFT  GRAND THEFT FROM LOCKED AUTO    Sunday   \n",
      "4   140734220   NON-CRIMINAL                FOUND PROPERTY    Sunday   \n",
      "\n",
      "         Date   Time PdDistrict Resolution                    Address  \\\n",
      "0  08/31/2014  23:50    BAYVIEW       NONE  LOOMIS ST / INDUSTRIAL ST   \n",
      "1  08/31/2014  23:45    MISSION       NONE     400 Block of CASTRO ST   \n",
      "2  08/31/2014  23:30   SOUTHERN       NONE   1000 Block of MISSION ST   \n",
      "3  08/31/2014  23:30   RICHMOND       NONE        FULTON ST / 26TH AV   \n",
      "4  08/31/2014  23:23   RICHMOND       NONE   800 Block of LA PLAYA ST   \n",
      "\n",
      "            X          Y                               Location  \\\n",
      "0 -122.405647  37.738322  (37.7383221869053, -122.405646994567)   \n",
      "1 -122.435012  37.761768  (37.7617677182954, -122.435012093789)   \n",
      "2 -122.409795  37.780036  (37.7800356268394, -122.409795194505)   \n",
      "3 -122.485263  37.772518  (37.7725176473142, -122.485262988324)   \n",
      "4 -122.509895  37.772313  (37.7723131976814, -122.509895418239)   \n",
      "\n",
      "             PdId  \n",
      "0  14073431126031  \n",
      "1  14073631771000  \n",
      "2  14617792306244  \n",
      "3  14617753106244  \n",
      "4  14073422072000  \n"
     ]
    },
    {
     "name": "stderr",
     "output_type": "stream",
     "text": [
      "/home/dominik/anaconda3/envs/untitled/lib/python3.7/site-packages/IPython/core/interactiveshell.py:3146: DtypeWarning: Columns (9) have mixed types.Specify dtype option on import or set low_memory=False.\n",
      "  interactivity=interactivity, compiler=compiler, result=result)\n"
     ]
    }
   ],
   "source": [
    "## Load the data\n",
    "\n",
    "import urllib3\n",
    "import pandas as pd\n",
    "from io import StringIO\n",
    "\n",
    "http = urllib3.PoolManager()\n",
    "\n",
    "urls = ['https://raw.githubusercontent.com/uwescience/datasci_course_materials/master/assignment6/seattle_incidents_summer_2014.csv',\n",
    "        'https://raw.githubusercontent.com/uwescience/datasci_course_materials/master/assignment6/sanfrancisco_incidents_summer_2014.csv',\n",
    "        ]\n",
    "cities = ['seattle', 'san_francisco']\n",
    "data = {}\n",
    "for city, url  in zip(cities,urls):\n",
    "    r = http.request('GET', url)\n",
    "    data[city] = r.data.decode('utf-8')\n",
    "print(type(data['seattle']))\n",
    "df_seattle      = pd.read_csv(StringIO(data['seattle']), sep=',')\n",
    "df_san_franciso = pd.read_csv(StringIO(data['san_francisco']), sep=',')\n",
    "\n",
    "print(df_seattle.head())\n",
    "print('*'*50)\n",
    "print(df_san_franciso.head())\n",
    "\n",
    "#print(df_seattle.shape())"
   ]
  }
 ],
 "metadata": {
  "kernelspec": {
   "display_name": "Python 3",
   "language": "python",
   "name": "python3"
  },
  "language_info": {
   "codemirror_mode": {
    "name": "ipython",
    "version": 2
   },
   "file_extension": ".py",
   "mimetype": "text/x-python",
   "name": "python",
   "nbconvert_exporter": "python",
   "pygments_lexer": "ipython2",
   "version": "2.7.6"
  }
 },
 "nbformat": 4,
 "nbformat_minor": 0
}